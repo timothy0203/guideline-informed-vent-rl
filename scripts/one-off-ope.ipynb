{
 "cells": [
  {
   "cell_type": "code",
   "execution_count": 3,
   "metadata": {},
   "outputs": [
    {
     "ename": "FileNotFoundError",
     "evalue": "[Errno 2] No such file or directory: 'data/test_unshaped_traj_12.csv'",
     "output_type": "error",
     "traceback": [
      "\u001b[1;31m---------------------------------------------------------------------------\u001b[0m",
      "\u001b[1;31mFileNotFoundError\u001b[0m                         Traceback (most recent call last)",
      "Cell \u001b[1;32mIn[3], line 91\u001b[0m\n\u001b[0;32m     88\u001b[0m     \u001b[38;5;28;01mreturn\u001b[39;00m add_traj_return(add_traj_len(dataset))\n\u001b[0;32m     90\u001b[0m np\u001b[38;5;241m.\u001b[39mrandom\u001b[38;5;241m.\u001b[39mseed(seed)\n\u001b[1;32m---> 91\u001b[0m test_set \u001b[38;5;241m=\u001b[39m postprocess(\u001b[43mpd\u001b[49m\u001b[38;5;241;43m.\u001b[39;49m\u001b[43mread_csv\u001b[49m\u001b[43m(\u001b[49m\u001b[43mtest_set_file\u001b[49m\u001b[38;5;241;43m.\u001b[39;49m\u001b[43mformat\u001b[49m\u001b[43m(\u001b[49m\u001b[43mseed\u001b[49m\u001b[43m)\u001b[49m\u001b[43m)\u001b[49m)\n\u001b[0;32m     92\u001b[0m train_set \u001b[38;5;241m=\u001b[39m postprocess(pd\u001b[38;5;241m.\u001b[39mread_csv(train_set_file\u001b[38;5;241m.\u001b[39mformat(seed)))\n\u001b[0;32m     94\u001b[0m q_file \u001b[38;5;241m=\u001b[39m joblib\u001b[38;5;241m.\u001b[39mload(q_fname\u001b[38;5;241m.\u001b[39mformat(shaping, seed))\n",
      "File \u001b[1;32mc:\\Users\\hmilab\\Anaconda3\\envs\\VM_RL\\lib\\site-packages\\pandas\\io\\parsers\\readers.py:912\u001b[0m, in \u001b[0;36mread_csv\u001b[1;34m(filepath_or_buffer, sep, delimiter, header, names, index_col, usecols, dtype, engine, converters, true_values, false_values, skipinitialspace, skiprows, skipfooter, nrows, na_values, keep_default_na, na_filter, verbose, skip_blank_lines, parse_dates, infer_datetime_format, keep_date_col, date_parser, date_format, dayfirst, cache_dates, iterator, chunksize, compression, thousands, decimal, lineterminator, quotechar, quoting, doublequote, escapechar, comment, encoding, encoding_errors, dialect, on_bad_lines, delim_whitespace, low_memory, memory_map, float_precision, storage_options, dtype_backend)\u001b[0m\n\u001b[0;32m    899\u001b[0m kwds_defaults \u001b[38;5;241m=\u001b[39m _refine_defaults_read(\n\u001b[0;32m    900\u001b[0m     dialect,\n\u001b[0;32m    901\u001b[0m     delimiter,\n\u001b[1;32m   (...)\u001b[0m\n\u001b[0;32m    908\u001b[0m     dtype_backend\u001b[38;5;241m=\u001b[39mdtype_backend,\n\u001b[0;32m    909\u001b[0m )\n\u001b[0;32m    910\u001b[0m kwds\u001b[38;5;241m.\u001b[39mupdate(kwds_defaults)\n\u001b[1;32m--> 912\u001b[0m \u001b[38;5;28;01mreturn\u001b[39;00m \u001b[43m_read\u001b[49m\u001b[43m(\u001b[49m\u001b[43mfilepath_or_buffer\u001b[49m\u001b[43m,\u001b[49m\u001b[43m \u001b[49m\u001b[43mkwds\u001b[49m\u001b[43m)\u001b[49m\n",
      "File \u001b[1;32mc:\\Users\\hmilab\\Anaconda3\\envs\\VM_RL\\lib\\site-packages\\pandas\\io\\parsers\\readers.py:577\u001b[0m, in \u001b[0;36m_read\u001b[1;34m(filepath_or_buffer, kwds)\u001b[0m\n\u001b[0;32m    574\u001b[0m _validate_names(kwds\u001b[38;5;241m.\u001b[39mget(\u001b[38;5;124m\"\u001b[39m\u001b[38;5;124mnames\u001b[39m\u001b[38;5;124m\"\u001b[39m, \u001b[38;5;28;01mNone\u001b[39;00m))\n\u001b[0;32m    576\u001b[0m \u001b[38;5;66;03m# Create the parser.\u001b[39;00m\n\u001b[1;32m--> 577\u001b[0m parser \u001b[38;5;241m=\u001b[39m TextFileReader(filepath_or_buffer, \u001b[38;5;241m*\u001b[39m\u001b[38;5;241m*\u001b[39mkwds)\n\u001b[0;32m    579\u001b[0m \u001b[38;5;28;01mif\u001b[39;00m chunksize \u001b[38;5;129;01mor\u001b[39;00m iterator:\n\u001b[0;32m    580\u001b[0m     \u001b[38;5;28;01mreturn\u001b[39;00m parser\n",
      "File \u001b[1;32mc:\\Users\\hmilab\\Anaconda3\\envs\\VM_RL\\lib\\site-packages\\pandas\\io\\parsers\\readers.py:1407\u001b[0m, in \u001b[0;36mTextFileReader.__init__\u001b[1;34m(self, f, engine, **kwds)\u001b[0m\n\u001b[0;32m   1404\u001b[0m     \u001b[38;5;28mself\u001b[39m\u001b[38;5;241m.\u001b[39moptions[\u001b[38;5;124m\"\u001b[39m\u001b[38;5;124mhas_index_names\u001b[39m\u001b[38;5;124m\"\u001b[39m] \u001b[38;5;241m=\u001b[39m kwds[\u001b[38;5;124m\"\u001b[39m\u001b[38;5;124mhas_index_names\u001b[39m\u001b[38;5;124m\"\u001b[39m]\n\u001b[0;32m   1406\u001b[0m \u001b[38;5;28mself\u001b[39m\u001b[38;5;241m.\u001b[39mhandles: IOHandles \u001b[38;5;241m|\u001b[39m \u001b[38;5;28;01mNone\u001b[39;00m \u001b[38;5;241m=\u001b[39m \u001b[38;5;28;01mNone\u001b[39;00m\n\u001b[1;32m-> 1407\u001b[0m \u001b[38;5;28mself\u001b[39m\u001b[38;5;241m.\u001b[39m_engine \u001b[38;5;241m=\u001b[39m \u001b[38;5;28;43mself\u001b[39;49m\u001b[38;5;241;43m.\u001b[39;49m\u001b[43m_make_engine\u001b[49m\u001b[43m(\u001b[49m\u001b[43mf\u001b[49m\u001b[43m,\u001b[49m\u001b[43m \u001b[49m\u001b[38;5;28;43mself\u001b[39;49m\u001b[38;5;241;43m.\u001b[39;49m\u001b[43mengine\u001b[49m\u001b[43m)\u001b[49m\n",
      "File \u001b[1;32mc:\\Users\\hmilab\\Anaconda3\\envs\\VM_RL\\lib\\site-packages\\pandas\\io\\parsers\\readers.py:1661\u001b[0m, in \u001b[0;36mTextFileReader._make_engine\u001b[1;34m(self, f, engine)\u001b[0m\n\u001b[0;32m   1659\u001b[0m     \u001b[38;5;28;01mif\u001b[39;00m \u001b[38;5;124m\"\u001b[39m\u001b[38;5;124mb\u001b[39m\u001b[38;5;124m\"\u001b[39m \u001b[38;5;129;01mnot\u001b[39;00m \u001b[38;5;129;01min\u001b[39;00m mode:\n\u001b[0;32m   1660\u001b[0m         mode \u001b[38;5;241m+\u001b[39m\u001b[38;5;241m=\u001b[39m \u001b[38;5;124m\"\u001b[39m\u001b[38;5;124mb\u001b[39m\u001b[38;5;124m\"\u001b[39m\n\u001b[1;32m-> 1661\u001b[0m \u001b[38;5;28mself\u001b[39m\u001b[38;5;241m.\u001b[39mhandles \u001b[38;5;241m=\u001b[39m \u001b[43mget_handle\u001b[49m\u001b[43m(\u001b[49m\n\u001b[0;32m   1662\u001b[0m \u001b[43m    \u001b[49m\u001b[43mf\u001b[49m\u001b[43m,\u001b[49m\n\u001b[0;32m   1663\u001b[0m \u001b[43m    \u001b[49m\u001b[43mmode\u001b[49m\u001b[43m,\u001b[49m\n\u001b[0;32m   1664\u001b[0m \u001b[43m    \u001b[49m\u001b[43mencoding\u001b[49m\u001b[38;5;241;43m=\u001b[39;49m\u001b[38;5;28;43mself\u001b[39;49m\u001b[38;5;241;43m.\u001b[39;49m\u001b[43moptions\u001b[49m\u001b[38;5;241;43m.\u001b[39;49m\u001b[43mget\u001b[49m\u001b[43m(\u001b[49m\u001b[38;5;124;43m\"\u001b[39;49m\u001b[38;5;124;43mencoding\u001b[39;49m\u001b[38;5;124;43m\"\u001b[39;49m\u001b[43m,\u001b[49m\u001b[43m \u001b[49m\u001b[38;5;28;43;01mNone\u001b[39;49;00m\u001b[43m)\u001b[49m\u001b[43m,\u001b[49m\n\u001b[0;32m   1665\u001b[0m \u001b[43m    \u001b[49m\u001b[43mcompression\u001b[49m\u001b[38;5;241;43m=\u001b[39;49m\u001b[38;5;28;43mself\u001b[39;49m\u001b[38;5;241;43m.\u001b[39;49m\u001b[43moptions\u001b[49m\u001b[38;5;241;43m.\u001b[39;49m\u001b[43mget\u001b[49m\u001b[43m(\u001b[49m\u001b[38;5;124;43m\"\u001b[39;49m\u001b[38;5;124;43mcompression\u001b[39;49m\u001b[38;5;124;43m\"\u001b[39;49m\u001b[43m,\u001b[49m\u001b[43m \u001b[49m\u001b[38;5;28;43;01mNone\u001b[39;49;00m\u001b[43m)\u001b[49m\u001b[43m,\u001b[49m\n\u001b[0;32m   1666\u001b[0m \u001b[43m    \u001b[49m\u001b[43mmemory_map\u001b[49m\u001b[38;5;241;43m=\u001b[39;49m\u001b[38;5;28;43mself\u001b[39;49m\u001b[38;5;241;43m.\u001b[39;49m\u001b[43moptions\u001b[49m\u001b[38;5;241;43m.\u001b[39;49m\u001b[43mget\u001b[49m\u001b[43m(\u001b[49m\u001b[38;5;124;43m\"\u001b[39;49m\u001b[38;5;124;43mmemory_map\u001b[39;49m\u001b[38;5;124;43m\"\u001b[39;49m\u001b[43m,\u001b[49m\u001b[43m \u001b[49m\u001b[38;5;28;43;01mFalse\u001b[39;49;00m\u001b[43m)\u001b[49m\u001b[43m,\u001b[49m\n\u001b[0;32m   1667\u001b[0m \u001b[43m    \u001b[49m\u001b[43mis_text\u001b[49m\u001b[38;5;241;43m=\u001b[39;49m\u001b[43mis_text\u001b[49m\u001b[43m,\u001b[49m\n\u001b[0;32m   1668\u001b[0m \u001b[43m    \u001b[49m\u001b[43merrors\u001b[49m\u001b[38;5;241;43m=\u001b[39;49m\u001b[38;5;28;43mself\u001b[39;49m\u001b[38;5;241;43m.\u001b[39;49m\u001b[43moptions\u001b[49m\u001b[38;5;241;43m.\u001b[39;49m\u001b[43mget\u001b[49m\u001b[43m(\u001b[49m\u001b[38;5;124;43m\"\u001b[39;49m\u001b[38;5;124;43mencoding_errors\u001b[39;49m\u001b[38;5;124;43m\"\u001b[39;49m\u001b[43m,\u001b[49m\u001b[43m \u001b[49m\u001b[38;5;124;43m\"\u001b[39;49m\u001b[38;5;124;43mstrict\u001b[39;49m\u001b[38;5;124;43m\"\u001b[39;49m\u001b[43m)\u001b[49m\u001b[43m,\u001b[49m\n\u001b[0;32m   1669\u001b[0m \u001b[43m    \u001b[49m\u001b[43mstorage_options\u001b[49m\u001b[38;5;241;43m=\u001b[39;49m\u001b[38;5;28;43mself\u001b[39;49m\u001b[38;5;241;43m.\u001b[39;49m\u001b[43moptions\u001b[49m\u001b[38;5;241;43m.\u001b[39;49m\u001b[43mget\u001b[49m\u001b[43m(\u001b[49m\u001b[38;5;124;43m\"\u001b[39;49m\u001b[38;5;124;43mstorage_options\u001b[39;49m\u001b[38;5;124;43m\"\u001b[39;49m\u001b[43m,\u001b[49m\u001b[43m \u001b[49m\u001b[38;5;28;43;01mNone\u001b[39;49;00m\u001b[43m)\u001b[49m\u001b[43m,\u001b[49m\n\u001b[0;32m   1670\u001b[0m \u001b[43m\u001b[49m\u001b[43m)\u001b[49m\n\u001b[0;32m   1671\u001b[0m \u001b[38;5;28;01massert\u001b[39;00m \u001b[38;5;28mself\u001b[39m\u001b[38;5;241m.\u001b[39mhandles \u001b[38;5;129;01mis\u001b[39;00m \u001b[38;5;129;01mnot\u001b[39;00m \u001b[38;5;28;01mNone\u001b[39;00m\n\u001b[0;32m   1672\u001b[0m f \u001b[38;5;241m=\u001b[39m \u001b[38;5;28mself\u001b[39m\u001b[38;5;241m.\u001b[39mhandles\u001b[38;5;241m.\u001b[39mhandle\n",
      "File \u001b[1;32mc:\\Users\\hmilab\\Anaconda3\\envs\\VM_RL\\lib\\site-packages\\pandas\\io\\common.py:859\u001b[0m, in \u001b[0;36mget_handle\u001b[1;34m(path_or_buf, mode, encoding, compression, memory_map, is_text, errors, storage_options)\u001b[0m\n\u001b[0;32m    854\u001b[0m \u001b[38;5;28;01melif\u001b[39;00m \u001b[38;5;28misinstance\u001b[39m(handle, \u001b[38;5;28mstr\u001b[39m):\n\u001b[0;32m    855\u001b[0m     \u001b[38;5;66;03m# Check whether the filename is to be opened in binary mode.\u001b[39;00m\n\u001b[0;32m    856\u001b[0m     \u001b[38;5;66;03m# Binary mode does not support 'encoding' and 'newline'.\u001b[39;00m\n\u001b[0;32m    857\u001b[0m     \u001b[38;5;28;01mif\u001b[39;00m ioargs\u001b[38;5;241m.\u001b[39mencoding \u001b[38;5;129;01mand\u001b[39;00m \u001b[38;5;124m\"\u001b[39m\u001b[38;5;124mb\u001b[39m\u001b[38;5;124m\"\u001b[39m \u001b[38;5;129;01mnot\u001b[39;00m \u001b[38;5;129;01min\u001b[39;00m ioargs\u001b[38;5;241m.\u001b[39mmode:\n\u001b[0;32m    858\u001b[0m         \u001b[38;5;66;03m# Encoding\u001b[39;00m\n\u001b[1;32m--> 859\u001b[0m         handle \u001b[38;5;241m=\u001b[39m \u001b[38;5;28;43mopen\u001b[39;49m\u001b[43m(\u001b[49m\n\u001b[0;32m    860\u001b[0m \u001b[43m            \u001b[49m\u001b[43mhandle\u001b[49m\u001b[43m,\u001b[49m\n\u001b[0;32m    861\u001b[0m \u001b[43m            \u001b[49m\u001b[43mioargs\u001b[49m\u001b[38;5;241;43m.\u001b[39;49m\u001b[43mmode\u001b[49m\u001b[43m,\u001b[49m\n\u001b[0;32m    862\u001b[0m \u001b[43m            \u001b[49m\u001b[43mencoding\u001b[49m\u001b[38;5;241;43m=\u001b[39;49m\u001b[43mioargs\u001b[49m\u001b[38;5;241;43m.\u001b[39;49m\u001b[43mencoding\u001b[49m\u001b[43m,\u001b[49m\n\u001b[0;32m    863\u001b[0m \u001b[43m            \u001b[49m\u001b[43merrors\u001b[49m\u001b[38;5;241;43m=\u001b[39;49m\u001b[43merrors\u001b[49m\u001b[43m,\u001b[49m\n\u001b[0;32m    864\u001b[0m \u001b[43m            \u001b[49m\u001b[43mnewline\u001b[49m\u001b[38;5;241;43m=\u001b[39;49m\u001b[38;5;124;43m\"\u001b[39;49m\u001b[38;5;124;43m\"\u001b[39;49m\u001b[43m,\u001b[49m\n\u001b[0;32m    865\u001b[0m \u001b[43m        \u001b[49m\u001b[43m)\u001b[49m\n\u001b[0;32m    866\u001b[0m     \u001b[38;5;28;01melse\u001b[39;00m:\n\u001b[0;32m    867\u001b[0m         \u001b[38;5;66;03m# Binary mode\u001b[39;00m\n\u001b[0;32m    868\u001b[0m         handle \u001b[38;5;241m=\u001b[39m \u001b[38;5;28mopen\u001b[39m(handle, ioargs\u001b[38;5;241m.\u001b[39mmode)\n",
      "\u001b[1;31mFileNotFoundError\u001b[0m: [Errno 2] No such file or directory: 'data/test_unshaped_traj_12.csv'"
     ]
    }
   ],
   "source": [
    "import copy\n",
    "from collections.abc import Iterable\n",
    "import functools\n",
    "import itertools\n",
    "import operator\n",
    "from matplotlib import pyplot as plt\n",
    "\n",
    "import pandas as pd\n",
    "from pandas.api.types import is_numeric_dtype\n",
    "import numpy as np\n",
    "import numpy_ext as npe\n",
    "import math\n",
    "import random\n",
    "from pprint import pprint\n",
    "from scipy.optimize import curve_fit\n",
    "from scipy.stats import poisson\n",
    "from scipy.sparse import hstack, vstack, csr_matrix\n",
    "import scipy\n",
    "\n",
    "from sklearn.cluster import KMeans\n",
    "from sklearn.linear_model import LinearRegression\n",
    "from sklearn.decomposition import PCA\n",
    "from sklearn.impute import KNNImputer\n",
    "from sklearn.preprocessing import Normalizer, StandardScaler, OneHotEncoder\n",
    "from sklearn.model_selection import train_test_split\n",
    "from sklearn import metrics\n",
    "import joblib\n",
    "\n",
    "import seaborn as sns\n",
    "\n",
    "import utils\n",
    "import safety\n",
    "import ope\n",
    "\n",
    "import sys\n",
    "\n",
    "from config import demographics, vital_sign_vars, lab_vars, treatment_vars, vent_vars, guideline_vars, ffill_windows_clinical, SAMPLE_TIME_H\n",
    "from config import fio2_bins, peep_bins, tv_bins\n",
    "\n",
    "seed = 12\n",
    "# seed = 3\n",
    "unsafety_prob = 0.0\n",
    "shaping = 'unshaped'\n",
    "\n",
    "test_set_file = 'data/test_unshaped_traj_{}.csv'\n",
    "train_set_file = 'data/train_unshaped_traj_{}.csv'\n",
    "q_fname = 'models/peine_mc_{}_0.0_q_table_{}.bin'\n",
    "\n",
    "greedy_policy_file = 'models/mcp_greedy_policy_{}{}.bin'\n",
    "sm_policy_file = 'models/mcp_softmax_policy_{}_{}_0.0.bin'\n",
    "behavior_policy_train_file = 'models/clinicians_policy_train_{}{}.bin'\n",
    "behavior_policy_test_file = 'models/clinicians_policy_test_{}{}.bin'\n",
    "behavior_policy_file = 'models/clinicians_policy_train_test_{}{}.bin'\n",
    "\n",
    "all_var_types = [\n",
    "    vital_sign_vars,\n",
    "    lab_vars,\n",
    "    treatment_vars,\n",
    "    vent_vars,\n",
    "    guideline_vars,\n",
    "]\n",
    "all_vars = functools.reduce(operator.add, all_var_types)\n",
    "\n",
    "def add_traj_return(dataset):\n",
    "    return_set = dataset.copy()\n",
    "    return_set['traj_reward'] = np.nan\n",
    "    return_set.loc[return_set.mort90day == 't', 'traj_reward'] = -100\n",
    "    return_set.loc[return_set.mort90day == 'f', 'traj_reward'] = 100\n",
    "    return_set['traj_return'] = (.99 ** return_set['traj_len']) * return_set['traj_reward']\n",
    "    return return_set\n",
    "\n",
    "def add_scaled_traj_return(dataset):\n",
    "    return_set = dataset.copy()\n",
    "    return_set['traj_reward'] = np.nan\n",
    "    return_set.loc[return_set.mort90day == 't', 'traj_reward'] = 0\n",
    "    return_set.loc[return_set.mort90day == 'f', 'traj_reward'] = 1\n",
    "    return_set['traj_return'] = (.99 ** return_set['traj_len']) * return_set['traj_reward']\n",
    "    return return_set\n",
    "\n",
    "def add_traj_len(dataset):\n",
    "    assert dataset.traj_count.isna().sum() == 0\n",
    "    return_set = dataset.copy()\n",
    "    return_set['traj_len'] = return_set.groupby('icustay_id')['traj_count'].transform('max')\n",
    "    return_set['traj_len'] = return_set['traj_len'] + 1\n",
    "    return return_set\n",
    "\n",
    "def postprocess(dataset):\n",
    "    return add_traj_return(add_traj_len(dataset))\n",
    "\n",
    "np.random.seed(seed)\n",
    "test_set = postprocess(pd.read_csv(test_set_file.format(seed)))\n",
    "train_set = postprocess(pd.read_csv(train_set_file.format(seed)))\n",
    "\n",
    "q_file = joblib.load(q_fname.format(shaping, seed))\n",
    "q_table_nan = q_file['model']\n",
    "q_table = np.nan_to_num(q_table_nan, 0.0)\n",
    "q_table_neg = q_table_nan.copy()\n",
    "q_table_neg[q_table_neg == 0.0] = float('-inf')\n",
    "t = 1.0\n",
    "q_table_nan[q_table_nan == 0.0] = np.nan\n",
    "\n",
    "assert test_set.traj_reward.isna().sum() == 0\n",
    "assert train_set.traj_reward.isna().sum() == 0\n",
    "behavior_policy = utils.repair_policy_uniform(joblib.load(behavior_policy_file.format(seed,'')))\n",
    "behavior_train_policy = joblib.load(behavior_policy_train_file.format(seed,''))\n",
    "behavior_test_policy = joblib.load(behavior_policy_test_file.format(seed,''))\n",
    "behavior_safe_train = safety.repaired_safe(behavior_train_policy, behavior_train_policy)\n",
    "sm_unsafe = joblib.load(sm_policy_file.format(seed, shaping, unsafety_prob))\n",
    "if shaping == 'unshaped':\n",
    "    shaping_scalar = 0.0\n",
    "evaluations = [\n",
    "    (train_set, sm_unsafe, behavior_policy, 'train', 'softmax', shaping, shaping_scalar, 'unsafe', seed),\n",
    "    (test_set, sm_unsafe, behavior_policy, 'test', 'softmax', shaping, shaping_scalar, 'unsafe', seed),\n",
    "]\n",
    "if shaping == 'unshaped':\n",
    "    evaluations += [\n",
    "        (train_set, behavior_train_policy, behavior_train_policy, 'train', 'observed', shaping, shaping_scalar, 'unsafe', seed),\n",
    "        (test_set, behavior_test_policy, behavior_test_policy, 'test', 'observed', shaping, shaping_scalar, 'unsafe', seed),\n",
    "        (train_set, behavior_train_policy, behavior_policy, 'train', 'behavior', shaping, shaping_scalar, 'unsafe', seed),\n",
    "        (test_set, behavior_train_policy, behavior_policy, 'test', 'behavior', shaping, shaping_scalar, 'unsafe', seed),\n",
    "        (train_set, behavior_safe_train, behavior_policy, 'train', 'behavior', shaping, shaping_scalar, 'safe', seed),\n",
    "        (test_set, behavior_safe_train, behavior_policy, 'test', 'behavior', shaping, shaping_scalar, 'safe', seed),\n",
    "    ]\n",
    "ois_weights = []\n",
    "means = []\n",
    "phwis_means = []\n",
    "policies = []\n",
    "for ds, evaluation_policy, behavior_policy, *config in evaluations:\n",
    "    mean, var, traj_weights = ope.wis_policy(ds, evaluation_policy, behavior_policy)\n",
    "    phwismean, var, traj_weights = ope.phwis_policy(ds, evaluation_policy, behavior_policy)\n",
    "    ois_weights.append(traj_weights)\n",
    "    means.append(mean)\n",
    "    phwis_means.append(phwis_means)\n",
    "    policies.append((evaluation_policy, behavior_policy))\n",
    "    #am = ope.am(ds, evaluation_policy, behavior_policy, delta=0.05)\n",
    "    #hcope5 = ope.hcope(ds, evaluation_policy, behavior_policy, delta=0.05, c=5)\n",
    "    am, hcope5 = np.nan, np.nan\n",
    "    ess = (traj_weights > 0.0).sum()\n",
    "    print(','.join(map(str, (*config, mean, phwismean, var, ess))))\n",
    "    # TODO: write result to file with config"
   ]
  },
  {
   "cell_type": "code",
   "execution_count": null,
   "metadata": {},
   "outputs": [],
   "source": [
    "return_set = train_set.copy()\n",
    "return_set.traj_reward = np.nan\n",
    "return_set.loc[return_set.mort90day == 't', 'traj_reward'] = 0\n",
    "return_set.loc[return_set.mort90day == 'f', 'traj_reward'] = 1\n",
    "return_set['traj_return'] = (.99 ** return_set['traj_len']) * return_set['traj_reward']"
   ]
  },
  {
   "cell_type": "code",
   "execution_count": null,
   "metadata": {},
   "outputs": [],
   "source": [
    "return_set.traj_reward.isna().sum()"
   ]
  },
  {
   "cell_type": "code",
   "execution_count": null,
   "metadata": {},
   "outputs": [],
   "source": [
    "train_set.mort90day"
   ]
  },
  {
   "cell_type": "code",
   "execution_count": null,
   "metadata": {},
   "outputs": [],
   "source": [
    "sns.histplot(behavior_policy[behavior_policy != 0.0])"
   ]
  },
  {
   "cell_type": "code",
   "execution_count": null,
   "metadata": {},
   "outputs": [],
   "source": [
    "train_set.state_action_id.value_counts().hist()"
   ]
  },
  {
   "cell_type": "code",
   "execution_count": null,
   "metadata": {},
   "outputs": [],
   "source": [
    "train_set.state.value_counts().hist(bins=400)\n",
    "plt.title('Train set state visitations')\n",
    "plt.show()\n",
    "\n",
    "train_set.state_action_id.value_counts().hist(bins=140)\n",
    "plt.title('Train set state-action visitations')\n",
    "plt.show()"
   ]
  },
  {
   "cell_type": "code",
   "execution_count": null,
   "metadata": {},
   "outputs": [],
   "source": [
    "sm_result = 1 # index of solution\n",
    "e_policy, b_policy = policies[sm_result]\n",
    "train_test = train_set if sm_result % 2 == 0 else test_set\n",
    "train_test_label = 'train' if sm_result % 2 == 0 else 'test'\n",
    "traj_weights = ois_weights[sm_result]\n",
    "sa_weights = ope.ois_sa_weights(train_test, e_policy, b_policy)\n",
    "weight_cutoff = .0001 / len(traj_weights)\n",
    "# weight_cutoff = 0.0 #.01 / len(traj_weights)\n",
    "train_test['ois_weights_plot'] = traj_weights\n",
    "train_test['sa_weights'] = sa_weights\n",
    "traj_returns = train_test.groupby('icustay_id')['traj_return'].first()\n",
    "weights_returns = pd.DataFrame({'traj_return': traj_returns, 'ois_weight': traj_weights})\n",
    "weights_returns['weighted_return'] = weights_returns.traj_return * weights_returns.ois_weight\n",
    "incl_trajs = traj_weights[traj_weights > weight_cutoff]\n",
    "g = sns.histplot(ois_weights[sm_result], bins=500)\n",
    "g.set(xscale='log', yscale='log')\n",
    "plt.title('{}, weights>{:.2E}={}={:.2f}%,seed={},ope={:.1f}'.format(train_test_label, weight_cutoff,(traj_weights > weight_cutoff).sum(), (traj_weights > 0.0).mean() * 100, seed, means[sm_result]))\n",
    "plt.xlabel('OIS weight')\n",
    "plt.show()\n",
    "\n",
    "sns.boxplot(x=traj_weights)\n",
    "plt.show()\n",
    "\n",
    "sns.boxplot(x=traj_weights[traj_weights > weight_cutoff])\n",
    "plt.show()\n",
    "\n",
    "plot_returns = weights_returns[weights_returns.ois_weight > weight_cutoff]\n",
    "g = sns.scatterplot(plot_returns, x='traj_return', y='ois_weight', alpha=.4)\n",
    "g.set(yscale='log')\n",
    "plt.xlabel('Trajectory return')\n",
    "plt.ylabel('OIS weight')\n",
    "plt.show()\n",
    "\n",
    "(train_test.groupby('icustay_id')['mort90day'].first() == 'f').mean()"
   ]
  },
  {
   "cell_type": "code",
   "execution_count": null,
   "metadata": {},
   "outputs": [],
   "source": [
    "np.nanmax(q_table, axis=1)"
   ]
  },
  {
   "cell_type": "code",
   "execution_count": null,
   "metadata": {},
   "outputs": [],
   "source": []
  },
  {
   "cell_type": "code",
   "execution_count": null,
   "metadata": {},
   "outputs": [],
   "source": [
    "il_policy = policies[4][0]\n",
    "m = .5\n",
    "mixed_policy = ((m* il_policy + (1-m)*e_policy))\n",
    "mixed_safe = safety.repaired_safe(mixed_policy, behavior_train_policy)\n",
    "ope.wis_policy(ds, mixed_policy, behavior_policy)\n",
    "ope.phwis_policy(ds, mixed_policy, behavior_policy)"
   ]
  },
  {
   "cell_type": "code",
   "execution_count": null,
   "metadata": {},
   "outputs": [],
   "source": [
    "ope.wis_policy(ds, mixed_policy, behavior_policy)"
   ]
  },
  {
   "cell_type": "code",
   "execution_count": null,
   "metadata": {},
   "outputs": [],
   "source": [
    "il_policy"
   ]
  },
  {
   "cell_type": "code",
   "execution_count": null,
   "metadata": {},
   "outputs": [],
   "source": [
    "weights_returns.weighted_return.idxmax()"
   ]
  },
  {
   "cell_type": "code",
   "execution_count": null,
   "metadata": {},
   "outputs": [],
   "source": [
    "traj_weights.idxmax(), traj_weights.max(), \n",
    "# train_set"
   ]
  },
  {
   "cell_type": "code",
   "execution_count": null,
   "metadata": {},
   "outputs": [],
   "source": [
    "(train_test.icustay_id == 248077).any()\n",
    "train_test[train_test.icustay_id == 248077][['state', 'action_discrete']]"
   ]
  },
  {
   "cell_type": "code",
   "execution_count": null,
   "metadata": {},
   "outputs": [],
   "source": [
    "train_test['e_policy_prob'] = train_test.apply(lambda x: e_policy[x.state, x.action_discrete], axis=1)\n",
    "train_test['b_policy_prob'] = train_test.apply(lambda x: b_policy[x.state, x.action_discrete], axis=1)\n",
    "train_test['il_policy_prob'] = train_test.apply(lambda x: il_policy[x.state, x.action_discrete], axis=1)\n",
    "train_test['q_value'] = train_test.apply(lambda x: q_table_nan[x.state, x.action_discrete], axis=1)\n",
    "\n",
    "train_test[train_test.icustay_id == 248077][['state', 'action_discrete', 'sa_weights', 'b_policy_prob', 'e_policy_prob', 'il_policy_prob', 'q_value']]\n",
    "\n",
    "# train_set.state.value_counts()[479]"
   ]
  },
  {
   "cell_type": "code",
   "execution_count": null,
   "metadata": {},
   "outputs": [],
   "source": [
    "il_policy_neg = il_policy.copy()\n",
    "il_policy_neg[il_policy_neg == 0.0] = float('-inf')\n",
    "temperature = 1e5\n",
    "il_trans = scipy.special.softmax(il_policy_neg / temperature)"
   ]
  },
  {
   "cell_type": "code",
   "execution_count": null,
   "metadata": {},
   "outputs": [],
   "source": [
    "il_trans"
   ]
  },
  {
   "cell_type": "code",
   "execution_count": null,
   "metadata": {},
   "outputs": [],
   "source": [
    "for a, (p_e, p_il, p_m, q) in enumerate(zip(e_policy[343,:], il_policy[343,:], mixed_policy[343,:], q_table_nan[343,:])):\n",
    "    if p_e > 0 or p_il > 0:\n",
    "        print(\"{:4d}: {:.4f} {:.4f} {:.4f} {:.4f} {}\".format(a, p_e, p_il, p_m, q, safety.action_id_compliance[a]))"
   ]
  },
  {
   "cell_type": "code",
   "execution_count": null,
   "metadata": {},
   "outputs": [],
   "source": [
    "sns.histplot(train_set.groupby('state').icustay_id.nunique(), bins=train_set.groupby('state').icustay_id.nunique().max())\n",
    "plt.xlabel('# trajectories')\n",
    "plt.title('Distribution of states over train trajectories')\n",
    "plt.show()\n",
    "\n",
    "sns.histplot(train_set.groupby('state_action_id').icustay_id.nunique(), bins=train_set.groupby('state_action_id').icustay_id.nunique().max())\n",
    "plt.xlabel('# trajectories')\n",
    "plt.title('Distribution of state-action tuples over train trajectories')\n",
    "plt.show()"
   ]
  },
  {
   "cell_type": "code",
   "execution_count": null,
   "metadata": {},
   "outputs": [],
   "source": [
    "sns.histplot(test_set.groupby('state').icustay_id.nunique(), bins=test_set.groupby('state').icustay_id.nunique().max())\n",
    "plt.xlabel('# trajectories')\n",
    "plt.title('Distribution of states over test trajectories')\n",
    "plt.show()\n",
    "\n",
    "sns.histplot(test_set.groupby('state_action_id').icustay_id.nunique(), bins=test_set.groupby('state_action_id').icustay_id.nunique().max())\n",
    "plt.xlabel('# trajectories')\n",
    "plt.title('Distribution of state-action tuples over test trajectories')\n",
    "plt.show()"
   ]
  },
  {
   "cell_type": "code",
   "execution_count": null,
   "metadata": {},
   "outputs": [],
   "source": [
    "sns.histplot(train_set.groupby('state').size())"
   ]
  },
  {
   "cell_type": "code",
   "execution_count": null,
   "metadata": {},
   "outputs": [],
   "source": [
    "import importlib\n",
    "importlib.reload(safety)\n",
    "safety.state_compliance_clinical(test_set, safety.avg_clinical_timestep).mean()"
   ]
  },
  {
   "cell_type": "code",
   "execution_count": null,
   "metadata": {},
   "outputs": [],
   "source": [
    "(~(test_set.ph_imp_scaled_impknn_unscaled > 7.2)).sum()"
   ]
  },
  {
   "cell_type": "code",
   "execution_count": null,
   "metadata": {},
   "outputs": [],
   "source": [
    "test_set"
   ]
  },
  {
   "cell_type": "code",
   "execution_count": null,
   "metadata": {},
   "outputs": [],
   "source": [
    "566 / test_set.shape[0]"
   ]
  },
  {
   "cell_type": "code",
   "execution_count": null,
   "metadata": {},
   "outputs": [],
   "source": [
    "(~(train_set.ph_imp_scaled_impknn_unscaled > 7.2)).sum() / train_set.shape[0]"
   ]
  },
  {
   "cell_type": "code",
   "execution_count": null,
   "metadata": {},
   "outputs": [],
   "source": [
    "((e_policy == 0) & (il_policy >= 1e-6)).sum(axis=1)"
   ]
  },
  {
   "cell_type": "code",
   "execution_count": null,
   "metadata": {},
   "outputs": [],
   "source": [
    "for a, (p_e, p_il, p_m, q) in enumerate(zip(e_policy[393,:], il_policy[393,:], mixed_policy[393,:], q_table_nan[393,:])):\n",
    "    if p_e > 0 or p_il > 0:\n",
    "        print(\"{:4d}: {:.4f} {:.4f} {:.4f} {:.4f} {}\".format(a, p_e, p_il, p_m, q, safety.action_id_compliance[a]))"
   ]
  },
  {
   "cell_type": "code",
   "execution_count": null,
   "metadata": {},
   "outputs": [],
   "source": [
    "q_table"
   ]
  },
  {
   "cell_type": "code",
   "execution_count": null,
   "metadata": {},
   "outputs": [],
   "source": [
    "train_set.groupby('state')['icustay_id'].nunique()[294]"
   ]
  },
  {
   "cell_type": "code",
   "execution_count": null,
   "metadata": {},
   "outputs": [],
   "source": [
    "train_set.state_action_id.value_counts()['343-191']"
   ]
  },
  {
   "cell_type": "code",
   "execution_count": null,
   "metadata": {},
   "outputs": [],
   "source": [
    "train_set[(train_set['state'] == 112)].action_discrete.value_counts()"
   ]
  },
  {
   "cell_type": "code",
   "execution_count": null,
   "metadata": {},
   "outputs": [],
   "source": [
    "list(train_set.columns)"
   ]
  },
  {
   "cell_type": "code",
   "execution_count": null,
   "metadata": {},
   "outputs": [],
   "source": [
    "e_policy[294,191], b_policy[294,191]"
   ]
  },
  {
   "cell_type": "code",
   "execution_count": null,
   "metadata": {},
   "outputs": [],
   "source": [
    "train_set.groupby('state')['icustay_id'].nunique()[294]"
   ]
  },
  {
   "cell_type": "code",
   "execution_count": null,
   "metadata": {},
   "outputs": [],
   "source": [
    "traj_weights[traj_weights.index == 252599]"
   ]
  },
  {
   "cell_type": "code",
   "execution_count": null,
   "metadata": {},
   "outputs": [],
   "source": [
    "traj_weights.sort_values(ascending=False).index[1]"
   ]
  },
  {
   "cell_type": "code",
   "execution_count": null,
   "metadata": {},
   "outputs": [],
   "source": [
    "train_set[train_set['icustay_id'] == 252599][demographics]"
   ]
  },
  {
   "cell_type": "code",
   "execution_count": null,
   "metadata": {},
   "outputs": [],
   "source": [
    "train_set.vent_duration_h.describe()"
   ]
  },
  {
   "cell_type": "code",
   "execution_count": null,
   "metadata": {},
   "outputs": [],
   "source": [
    "train_set[train_set['icustay_id'] == 201896]['bun_imp_scaled_impknn_unscaled']"
   ]
  },
  {
   "cell_type": "code",
   "execution_count": null,
   "metadata": {},
   "outputs": [],
   "source": [
    "test_set['elixhauser_vanwalraven']"
   ]
  },
  {
   "cell_type": "code",
   "execution_count": null,
   "metadata": {},
   "outputs": [],
   "source": [
    "train_test[train_test.icustay_id == 201896][['state', 'action_discrete']]"
   ]
  },
  {
   "cell_type": "code",
   "execution_count": null,
   "metadata": {},
   "outputs": [],
   "source": [
    "behavior_policy[241,183]"
   ]
  },
  {
   "cell_type": "code",
   "execution_count": null,
   "metadata": {},
   "outputs": [],
   "source": [
    "behavior_train_policy[241,183]"
   ]
  },
  {
   "cell_type": "code",
   "execution_count": null,
   "metadata": {},
   "outputs": [],
   "source": [
    "train_set.state.value_counts()[241]"
   ]
  },
  {
   "cell_type": "code",
   "execution_count": null,
   "metadata": {},
   "outputs": [],
   "source": [
    "len(weights_returns[weights_returns.ois_weight < 10e5]), len(weights_returns)"
   ]
  },
  {
   "cell_type": "code",
   "execution_count": null,
   "metadata": {},
   "outputs": [],
   "source": [
    "non_outlier = weights_returns[weights_returns.ois_weight < 10e5]\n",
    "(non_outlier.traj_return * non_outlier.ois_weight).sum() / non_outlier.ois_weight.sum()"
   ]
  },
  {
   "cell_type": "code",
   "execution_count": null,
   "metadata": {},
   "outputs": [],
   "source": [
    "sns.boxplot(non_outlier.traj_return * (non_outlier.ois_weight / non_outlier.ois_weight.sum()))"
   ]
  },
  {
   "cell_type": "code",
   "execution_count": null,
   "metadata": {},
   "outputs": [],
   "source": [
    "(non_outlier.traj_return * (non_outlier.ois_weight / non_outlier.ois_weight.sum())).median()"
   ]
  },
  {
   "cell_type": "code",
   "execution_count": null,
   "metadata": {},
   "outputs": [],
   "source": [
    "plot_returns = weights_returns[weights_returns.ois_weight > weight_cutoff]\n",
    "g = plt.scatter(x=weights_returns['traj_return'], y=weights_returns['ois_weight'], alpha=.4)\n",
    "# g.set(yscale='log')\n",
    "plt.xlabel('Trajectory return')\n",
    "plt.ylabel('OIS weight')\n",
    "plt.show()"
   ]
  },
  {
   "cell_type": "code",
   "execution_count": null,
   "metadata": {},
   "outputs": [],
   "source": []
  },
  {
   "cell_type": "code",
   "execution_count": null,
   "metadata": {},
   "outputs": [],
   "source": [
    "(train_set.groupby('icustay_id')['mort90day'].first() == 't').mean()\n",
    "(test_set.groupby('icustay_id')['mort90day'].first() == 't').mean()"
   ]
  },
  {
   "cell_type": "code",
   "execution_count": null,
   "metadata": {},
   "outputs": [],
   "source": [
    "(test_set[test_set.icustay_id.isin(incl_trajs.index)].groupby('icustay_id')['mort90day'].first() == 't').mean()"
   ]
  },
  {
   "cell_type": "code",
   "execution_count": null,
   "metadata": {},
   "outputs": [],
   "source": [
    "ois_weights"
   ]
  },
  {
   "cell_type": "code",
   "execution_count": null,
   "metadata": {},
   "outputs": [],
   "source": [
    "traj"
   ]
  },
  {
   "cell_type": "code",
   "execution_count": null,
   "metadata": {},
   "outputs": [],
   "source": [
    "(ois_weights[1] > 0.0).mean()"
   ]
  },
  {
   "cell_type": "code",
   "execution_count": null,
   "metadata": {},
   "outputs": [],
   "source": [
    "(traj_weights > (1/len(traj_weights))).sum()"
   ]
  },
  {
   "cell_type": "code",
   "execution_count": null,
   "metadata": {},
   "outputs": [],
   "source": []
  },
  {
   "cell_type": "code",
   "execution_count": null,
   "metadata": {},
   "outputs": [],
   "source": []
  },
  {
   "cell_type": "code",
   "execution_count": null,
   "metadata": {},
   "outputs": [],
   "source": []
  },
  {
   "cell_type": "code",
   "execution_count": null,
   "metadata": {},
   "outputs": [],
   "source": []
  }
 ],
 "metadata": {
  "kernelspec": {
   "display_name": "Python 3 (ipykernel)",
   "language": "python",
   "name": "python3"
  },
  "language_info": {
   "codemirror_mode": {
    "name": "ipython",
    "version": 3
   },
   "file_extension": ".py",
   "mimetype": "text/x-python",
   "name": "python",
   "nbconvert_exporter": "python",
   "pygments_lexer": "ipython3",
   "version": "3.9.19"
  }
 },
 "nbformat": 4,
 "nbformat_minor": 4
}
